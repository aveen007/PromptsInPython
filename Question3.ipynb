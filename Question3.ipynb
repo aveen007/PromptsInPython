{
 "cells": [
  {
   "cell_type": "markdown",
   "id": "1177beeb",
   "metadata": {},
   "source": [
    "# The fastest way to sort in python for an unknown-sized array"
   ]
  },
  {
   "cell_type": "markdown",
   "id": "ef210e39",
   "metadata": {},
   "source": [
    "### 1. Defining different algorithms for comparason"
   ]
  },
  {
   "cell_type": "markdown",
   "id": "25ba3ad3",
   "metadata": {},
   "source": [
    "\n",
    "\n",
    "#### I went ahead and implemented different sorting algorithms to show a clear comparison and recommend the best of them, I also took a look at the algorithm being currently used in the underlying \"Sorted\" function in python to get a sense of the markers for a good sorting algorithm and the source that I used for that is provided in the link \n",
    "https://realpython.com/sorting-algorithms-python/"
   ]
  },
  {
   "cell_type": "code",
   "execution_count": 48,
   "id": "2c1c0900",
   "metadata": {},
   "outputs": [],
   "source": [
    "from random import randint\n",
    "from timeit import repeat \n",
    "\n",
    "#this code is intended to display the results\n",
    "##the time is being calculated using the timeit library that calculates the execusion time for bits of code\n",
    "def run_sorting_algorithm(algorithm, array):\n",
    "    code=f\"from __main__ import {algorithm}\"\\\n",
    "    if algorithm !=\"sorted\" else \"\" ## this is the built in sorting algorithm in python\n",
    "    stmt=f\"{algorithm}({array})\"\n",
    "    timers= repeat(setup=code, stmt=stmt, repeat=3, number =10000)## we will be repeating the excution of each \n",
    "    ## algorithm 10000 times and calculating the mean time of those execusions to return an answer and then\n",
    "    ## we repeat that 3 times and return the minimum of those 3 avarages to get an accurate representation of the time taken\n",
    "    print(f\"minimum execusion time of the algorithm {algorithm} is: {min (timers)} s\")\n",
    "    "
   ]
  },
  {
   "cell_type": "markdown",
   "id": "575c85ac",
   "metadata": {},
   "source": [
    "#### bubble sort is relatively slow, but I just implemented it for comparason"
   ]
  },
  {
   "cell_type": "code",
   "execution_count": 83,
   "id": "beaa23eb",
   "metadata": {},
   "outputs": [],
   "source": [
    "def bubble_sort(array):\n",
    "    n=len(array)\n",
    "    already_sorted=False\n",
    "    for i in range(n):\n",
    "        for j in range(n-i-1):\n",
    "            if (array[j]>array[j+1]):\n",
    "                x=array[j]\n",
    "                array[j]=array[j+1]\n",
    "                array[j+1]=x\n",
    "                already_sorted=False\n",
    "        if already_sorted: break\n",
    "                \n",
    "#     print (array)"
   ]
  },
  {
   "cell_type": "markdown",
   "id": "16c3e429",
   "metadata": {},
   "source": [
    "#### insertion sort is also a slow algorithm when the data set is large in size, but it provides an efficient solution with small size sets and is a gate way for more complicated algorithms that are built upon it"
   ]
  },
  {
   "cell_type": "code",
   "execution_count": 38,
   "id": "d0ca9a4e",
   "metadata": {},
   "outputs": [],
   "source": [
    "def insertion_sort(array):\n",
    "    n=len(array)\n",
    "    for i in range (1,n):\n",
    "        j=i-1\n",
    "        key=array[j+1]\n",
    "        while j>=0:\n",
    "            if array[j]>key:\n",
    "                array[j+1], array[j]=array[j],array[j+1]\n",
    "                j-=1\n",
    "            else: \n",
    "                array[j+1]=key\n",
    "                \n",
    "                break\n"
   ]
  },
  {
   "cell_type": "markdown",
   "id": "7b1e0d74",
   "metadata": {},
   "source": [
    "#### merge sort is an efficient devide and conquer algorithm, it is stable in computation time, although it is beaten by algorithms like quick sort in cases of semi-sorted algorithms"
   ]
  },
  {
   "cell_type": "code",
   "execution_count": 116,
   "id": "07686f3b",
   "metadata": {},
   "outputs": [],
   "source": [
    "def merge(arr1, arr2):\n",
    "    n1=len(arr1)\n",
    "    n2=len(arr2)\n",
    "    if n1==0:\n",
    "        \n",
    "        return arr2\n",
    "        \n",
    "    \n",
    "    if n2==0:\n",
    "               return arr1\n",
    "    result=[]\n",
    "    ind1=ind2=0\n",
    "\n",
    "    while ind1+ind2<n1+n2:\n",
    "        if ind1>n1-1:\n",
    "            result+=arr2[ind2:]\n",
    "            break\n",
    "        if ind2>n2-1:\n",
    "            result+=arr1[ind1:] \n",
    "            break\n",
    "        \n",
    "        if arr1[ind1]<arr2[ind2]:\n",
    "            result.append(arr1[ind1])\n",
    "            ind1+=1\n",
    "        else:\n",
    "            result.append(arr2[ind2])\n",
    "            ind2+=1\n",
    "     \n",
    "    return result\n",
    "\n"
   ]
  },
  {
   "cell_type": "code",
   "execution_count": 117,
   "id": "800fc3de",
   "metadata": {},
   "outputs": [],
   "source": [
    "def merge_sort(arr):\n",
    "\n",
    "        halfN=int(len(arr)/2)\n",
    "        left=arr[:halfN]\n",
    "        right=arr[halfN:]\n",
    "#     print(left)\n",
    "#     print(right)\n",
    "\n",
    "        if len(left)>1:\n",
    "             left=merge_sort(left)\n",
    "        if len(right)>1:\n",
    "             right=merge_sort(right)\n",
    "                \n",
    "        return merge(left, right)\n",
    "\n"
   ]
  },
  {
   "cell_type": "markdown",
   "id": "75cecba6",
   "metadata": {},
   "source": [
    "#### quick sort is a very fast algorithm in many scenarios, it is also considered an in place sorting algorithm, meaning that it has great cache locality which makes it faster than merge-sort in many cases. However the algorithm is not stable and descends to a very poor performance in worst case scenarios depending on the index of the pivot element (which is in the best case the median of the array elements)"
   ]
  },
  {
   "cell_type": "code",
   "execution_count": 119,
   "id": "e8e2d071",
   "metadata": {},
   "outputs": [],
   "source": [
    "import random\n",
    "def quick_sort(arr):\n",
    "    if len(arr)==0:\n",
    "        return []\n",
    "    index=random.randint(0, len(arr)-1)\n",
    "    pivot=arr[index]\n",
    "    low=[]\n",
    "    high=[]\n",
    "    same=[]\n",
    "    for i in range(len(arr)):\n",
    "        if arr[i]<pivot:\n",
    "            low.append(arr[i])\n",
    "        else:\n",
    "            if arr[i]>pivot:\n",
    "            \n",
    "                high.append(arr[i])\n",
    "            else:\n",
    "                same.append(arr[i])\n",
    "                \n",
    "    return quick_sort(low)+same+quick_sort(high)\n"
   ]
  },
  {
   "cell_type": "markdown",
   "id": "387decd9",
   "metadata": {},
   "source": [
    "### 2. my suggestion \n",
    "#### I will implement a variation of the timesort algorithm that is being currently used in the python built in \"sorted\" algorithm and explain why I chose this algorithm "
   ]
  },
  {
   "cell_type": "markdown",
   "id": "ce445b0f",
   "metadata": {},
   "source": [
    "### * this algorithm creates a variation on insertion sort by adding 2 pointers (left, right) to the beginning and the end of the part being sorted in this way. This alteration allows it to use insertion sort directly on small size arrays and also allows it to take advantage of it in sorting chuncks of the array in a devide and conquer manner."
   ]
  },
  {
   "cell_type": "code",
   "execution_count": 120,
   "id": "04768120",
   "metadata": {},
   "outputs": [],
   "source": [
    "def insertion_sort2(array, left=0, right=None):\n",
    "    n=len(array)\n",
    "    if right== None:\n",
    "        right =len(array)-1\n",
    "        \n",
    "    for i in range (left+1,right+1):\n",
    "        j=i-1\n",
    "        key=array[j+1]\n",
    "        while j>=left:\n",
    "            if array[j]>key:\n",
    "                array[j+1], array[j]=array[j],array[j+1]\n",
    "                j-=1\n",
    "            else: \n",
    "                array[j+1]=key\n",
    "                \n",
    "                break\n",
    "    return array\n"
   ]
  },
  {
   "cell_type": "markdown",
   "id": "80ab193f",
   "metadata": {},
   "source": [
    "### * This sorting algorithm is a devide and conquer algorithm, it sorts small chuncks of the array using insertion sort and then merges them into the existing array progressively, merging larger sizes of the array with each iteration (the size is multiplied by 2 with each iteration)"
   ]
  },
  {
   "cell_type": "code",
   "execution_count": 121,
   "id": "12c2307a",
   "metadata": {},
   "outputs": [],
   "source": [
    "def time_sort(arr):\n",
    "    min_run=32 # the size of the chuncks devided here is defaulted to 32 but in the actual implementation in the python built \n",
    "    # function, this size is being calculated based on a variaty of factors and is always a power of 2\n",
    "    \n",
    "    n=len(arr)\n",
    "    for i in range(0, n, min_run):\n",
    "        insertion_sort2(arr, i, min(n-1,i+ min_run-1)) ## sort chunks of min_run size using insertion sort\n",
    "        # and if the size is too small then the array is defaulted to be insertion sorted\n",
    "    size=min_run\n",
    "    \n",
    "    while size<n:\n",
    "        for i in range (0,n, size*2 ):\n",
    "            midpoint=i+size-1\n",
    "            end=min(n-1,i+size*2-1)\n",
    "            if midpoint < end: # Only merge if there is something to merge\n",
    "                merged=merge(arr[i:midpoint+1], arr[midpoint +1:end+1]) ## merging the chuncks \n",
    "                arr[i:end+1]=merged \n",
    "        size*=2 ## doubling the size of the chuncks being merged\n",
    "    return arr"
   ]
  },
  {
   "cell_type": "markdown",
   "id": "fa9b3c0d",
   "metadata": {},
   "source": [
    "### 3. let's check the actual performance before reaching a suggestion"
   ]
  },
  {
   "cell_type": "code",
   "execution_count": 127,
   "id": "4b54a0a1",
   "metadata": {},
   "outputs": [
    {
     "name": "stdout",
     "output_type": "stream",
     "text": [
      "minimum execusion time of the algorithm merge_sort is: 4.790492899948731 s\n",
      "minimum execusion time of the algorithm quick_sort is: 3.3744631999870762 s\n",
      "minimum execusion time of the algorithm time_sort is: 4.213390199933201 s\n",
      "minimum execusion time of the algorithm sorted is: 0.044488899991847575 s\n"
     ]
    }
   ],
   "source": [
    "\n",
    "# firstly for a large sized random array\n",
    "\n",
    "if __name__==\"__main__\":\n",
    "    array_length=100\n",
    "    array =[randint(0,100) for i in range(array_length)]\n",
    "#     run_sorting_algorithm(algorithm=\"bubble_sort\", array=array )\n",
    "#     run_sorting_algorithm(algorithm=\"insertion_sort\", array=array )\n",
    "    run_sorting_algorithm(algorithm=\"merge_sort\", array=array )\n",
    "    run_sorting_algorithm(algorithm=\"quick_sort\", array=array )\n",
    "    run_sorting_algorithm(algorithm=\"time_sort\", array=array )\n",
    "    run_sorting_algorithm(algorithm=\"sorted\", array=array )\n",
    "    "
   ]
  },
  {
   "cell_type": "code",
   "execution_count": 131,
   "id": "9b4ed98a",
   "metadata": {},
   "outputs": [],
   "source": [
    "array= sorted(array)"
   ]
  },
  {
   "cell_type": "code",
   "execution_count": 134,
   "id": "93647a4c",
   "metadata": {},
   "outputs": [
    {
     "name": "stdout",
     "output_type": "stream",
     "text": [
      "minimum execusion time of the algorithm insertion_sort is: 0.336970700067468 s\n",
      "minimum execusion time of the algorithm merge_sort is: 3.0517821999965236 s\n",
      "minimum execusion time of the algorithm quick_sort is: 3.01374450000003 s\n",
      "minimum execusion time of the algorithm time_sort is: 0.9637463000835851 s\n",
      "minimum execusion time of the algorithm sorted is: 0.013452399987727404 s\n"
     ]
    }
   ],
   "source": [
    "\n",
    "# secondly for a sorted array\n",
    "\n",
    "if __name__==\"__main__\":\n",
    "\n",
    "    run_sorting_algorithm(algorithm=\"insertion_sort\", array=array )\n",
    "    run_sorting_algorithm(algorithm=\"merge_sort\", array=array )\n",
    "    run_sorting_algorithm(algorithm=\"quick_sort\", array=array )\n",
    "    run_sorting_algorithm(algorithm=\"time_sort\", array=array )\n",
    "    \n",
    "    run_sorting_algorithm(algorithm=\"sorted\", array=array )"
   ]
  },
  {
   "cell_type": "markdown",
   "id": "1a35940f",
   "metadata": {},
   "source": [
    "### 4. final words"
   ]
  },
  {
   "cell_type": "markdown",
   "id": "872b117b",
   "metadata": {},
   "source": [
    "the general observation is that time_sort performs better than merge_sort for larger data sets, although it does not beat quick_sort in that regard. However if the array is sorted (or hypothetically, partially sorted), the performance of quick_sort descends significantelly and the performance of the quick sort algorithm remains impressively high, regardless of the size of the data set. \n",
    "So in that sense, time sort has the best of both worlds. It is a stable algorithm for large random arrays and it does better than merge sort in those regards. And yet it does not descend to bad performance in the worst case scenarios for other fast algorthims like quick sort. The reason for that is that it uses insertion for small chuncks and merge to conquer those small chuncks. \n",
    "So in terms of processor ticks, I generally advise the use of a variation of this algorithm. \n",
    "It still does not perform as the built in function, due to the lack of optimizations that are done for calculating the ideal size of minimum chuncks. However such optimizations help improve the performance significantely and are recomended. \n"
   ]
  }
 ],
 "metadata": {
  "kernelspec": {
   "display_name": "Python 3 (ipykernel)",
   "language": "python",
   "name": "python3"
  },
  "language_info": {
   "codemirror_mode": {
    "name": "ipython",
    "version": 3
   },
   "file_extension": ".py",
   "mimetype": "text/x-python",
   "name": "python",
   "nbconvert_exporter": "python",
   "pygments_lexer": "ipython3",
   "version": "3.10.9"
  },
  "varInspector": {
   "cols": {
    "lenName": 16,
    "lenType": 16,
    "lenVar": 40
   },
   "kernels_config": {
    "python": {
     "delete_cmd_postfix": "",
     "delete_cmd_prefix": "del ",
     "library": "var_list.py",
     "varRefreshCmd": "print(var_dic_list())"
    },
    "r": {
     "delete_cmd_postfix": ") ",
     "delete_cmd_prefix": "rm(",
     "library": "var_list.r",
     "varRefreshCmd": "cat(var_dic_list()) "
    }
   },
   "types_to_exclude": [
    "module",
    "function",
    "builtin_function_or_method",
    "instance",
    "_Feature"
   ],
   "window_display": false
  }
 },
 "nbformat": 4,
 "nbformat_minor": 5
}
