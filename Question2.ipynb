{
 "cells": [
  {
   "cell_type": "markdown",
   "id": "8e23fb60",
   "metadata": {},
   "source": [
    "# this code is intended to implement FIFO circular buffer in 2 classes the first being the following CircularBuffer class\n",
    "### the first implementation will be done using a normal array"
   ]
  },
  {
   "cell_type": "code",
   "execution_count": 1,
   "id": "ada423b0",
   "metadata": {},
   "outputs": [],
   "source": [
    "class CircularBuffer:\n",
    "    def __init__(self, buffSize):\n",
    "        self.buffsize=buffSize\n",
    "        self.data=[]\n",
    "    class FullBuffer:\n",
    "        def add(self, x):\n",
    "            self.data[self.curpos]=x\n",
    "            self.curpos=(self.curpos+1)%self.buffsize\n",
    "        \n",
    "        def get(self):\n",
    "            return self.data[self.curpos:]+self.data[:self.curpos] ## return the results by deviding the array in half \n",
    "        ## we return the first half until the current position concatinated with the rest of the array \n",
    "        ## we do that to avoid having to shift the elements in order to achieve the right order putting the element\n",
    "        ## at the current position at the top of the buffer \n",
    "\n",
    "\n",
    "    def add(self, x):\n",
    "        self.data.append(x)\n",
    "        if len(self.data)>=self.buffsize:\n",
    "            self.curpos=0\n",
    "            ## check when the buffer is full \n",
    "\n",
    "            self.__class__=self.FullBuffer\n",
    "            ## if full, move to the full buffer implementation \n",
    "            \n",
    "            \n",
    "    def get(self):\n",
    "        return self.data\n",
    "        "
   ]
  },
  {
   "cell_type": "markdown",
   "id": "f15bb962",
   "metadata": {},
   "source": [
    "### the second implementation will be done using a deque"
   ]
  },
  {
   "cell_type": "code",
   "execution_count": null,
   "id": "bbadae71",
   "metadata": {},
   "outputs": [],
   "source": [
    "\n",
    "\n",
    "import collections\n",
    "class CircularBufferDeque:\n",
    "    def __init__(self, buffSize):\n",
    "        self.dq=collections.deque(maxlen=buffSize)\n",
    "    def add(self, x):\n",
    "        self.dq.append(x)\n",
    "    def get(self):\n",
    "        return self.dq"
   ]
  },
  {
   "cell_type": "markdown",
   "id": "359c9d73",
   "metadata": {},
   "source": [
    "### to compare the two implementations in terms of time we will take advantage of the timeIt library"
   ]
  },
  {
   "cell_type": "code",
   "execution_count": 39,
   "id": "a5516594",
   "metadata": {},
   "outputs": [
    {
     "name": "stdout",
     "output_type": "stream",
     "text": [
      "[<__main__.CircularBuffer object at 0x00000219404FCAC0>, <__main__.CircularBufferDeque object at 0x000002194049E3E0>]\n",
      " time for add opperation for implementation circular buffer with array the time measured is: 4.16s, (0.42 per iteration) for the number of iterations 100000.0 \n",
      " time for add opperation for implementation circular buffer with deque the time measured is: 2.54s, (0.25 per iteration) for the number of iterations 100000.0 \n",
      "##########\n",
      " time for get opperation for implementation circular buffer with array the time measured is: 0.11s, (0.01 per iteration) for the number of iterations 100000.0 \n",
      "##########\n",
      " time for get opperation for implementation circular buffer with deque the time measured is: 0.03s, (0.00 per iteration) for the number of iterations 100000.0 \n",
      "##########\n"
     ]
    }
   ],
   "source": [
    "import timeit\n",
    "def main():\n",
    "    \n",
    "    \n",
    "    bufferSize=100\n",
    "    numIterations =1e5\n",
    "    resultAdd=[]\n",
    "    resultGet=[]\n",
    "    circularBuffers=[CircularBuffer(bufferSize), CircularBufferDeque(bufferSize)]\n",
    "    implementations=[\"circular buffer with array\", \"circular buffer with deque\"]\n",
    "    print(circularBuffers)\n",
    "    for i, cb in enumerate(circularBuffers):\n",
    "        timer = timeit.Timer(lambda: [circularBuffers[i].add(j) for j in range(bufferSize)])\n",
    "        elapsed_time = timer.timeit(int(numIterations))\n",
    "        resultAdd.append(elapsed_time)\n",
    "        timer2=timeit.Timer(lambda: circularBuffers[i].get())\n",
    "        elapsed_time2 = timer2.timeit(int(numIterations))\n",
    "        \n",
    "        resultGet.append(elapsed_time2)\n",
    "    for i, res in enumerate(resultAdd):\n",
    "        print(' time for add opperation for implementation {} the time measured is: {:.2f}s, ({:.2f} per iteration) for the number of iterations {} '\n",
    "              .format( implementations[i],res, res/numIterations*1e4, numIterations)\n",
    "                                                                                                        )\n",
    "    print(\"##########\")\n",
    "    for i, res in enumerate(resultGet):\n",
    "        print(' time for get opperation for implementation {} the time measured is: {:.2f}s, ({:.2f} per iteration) for the number of iterations {} '\n",
    "              .format( implementations[i],res, res/numIterations*1e4, numIterations)\n",
    "                                                                                                        )\n",
    "        print(\"##########\")\n",
    "                                       \n",
    "        \n",
    "    \n",
    "    return \n",
    "if __name__==\"__main__\":\n",
    "    main()"
   ]
  },
  {
   "cell_type": "markdown",
   "id": "9e6b7865",
   "metadata": {},
   "source": [
    "## analyzing the results\n",
    "### in terms of time\n",
    "for the metrics used which are 100 000 iterations \n",
    "the times for both the add and the get operation are significantly better in the case of using a deque for the implementation, Given the fact that we got 2.54 and 0.03 seconds for the total time for the get and add operations respectively. Compared to the 4.16 and 0.11 seconds that we got when implementing the methods using an array.\n",
    "### in terms of readability\n",
    "\n",
    "Implementing the methods using deque is simpler and easier to understand than doing that using an array\n",
    "### underlying reasons for the results recieved\n",
    "\n",
    "\n",
    "Using deque to implement the circular buffer is the more natural approach for the following reasons:\n",
    "Operations in deque are of complexity O(1), due to it's two pointer implementation with one pointer at the end and the other one on the front of the queue. In this use case we only need the push and pop operations since we are not concerned with the get element at a certain index method, which in either way matches the complexity of it being implemented with an array and that is O(n). \n",
    "on the other hand, implementing the methods using the simple array approach gives a O(n) time complexity in the case of a full buffer and that is because of the need to insert an element at a certain index. \n",
    "So to sum up, as mentioned before I recommend using a deque for this use case. \n",
    "\n"
   ]
  }
 ],
 "metadata": {
  "kernelspec": {
   "display_name": "Python 3 (ipykernel)",
   "language": "python",
   "name": "python3"
  },
  "language_info": {
   "codemirror_mode": {
    "name": "ipython",
    "version": 3
   },
   "file_extension": ".py",
   "mimetype": "text/x-python",
   "name": "python",
   "nbconvert_exporter": "python",
   "pygments_lexer": "ipython3",
   "version": "3.10.9"
  },
  "varInspector": {
   "cols": {
    "lenName": 16,
    "lenType": 16,
    "lenVar": 40
   },
   "kernels_config": {
    "python": {
     "delete_cmd_postfix": "",
     "delete_cmd_prefix": "del ",
     "library": "var_list.py",
     "varRefreshCmd": "print(var_dic_list())"
    },
    "r": {
     "delete_cmd_postfix": ") ",
     "delete_cmd_prefix": "rm(",
     "library": "var_list.r",
     "varRefreshCmd": "cat(var_dic_list()) "
    }
   },
   "types_to_exclude": [
    "module",
    "function",
    "builtin_function_or_method",
    "instance",
    "_Feature"
   ],
   "window_display": false
  }
 },
 "nbformat": 4,
 "nbformat_minor": 5
}
